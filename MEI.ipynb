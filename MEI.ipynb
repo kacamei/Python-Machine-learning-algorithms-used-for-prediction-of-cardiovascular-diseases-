{
 "cells": [
  {
   "cell_type": "code",
   "execution_count": 1,
   "metadata": {},
   "outputs": [],
   "source": [
    "import numpy as np \n",
    "import pandas as pd\n",
    "import matplotlib.pyplot as plt\n",
    "\n",
    "from sklearn.model_selection import train_test_split, RandomizedSearchCV\n",
    "from sklearn.preprocessing import StandardScaler\n",
    "from sklearn.neighbors import KNeighborsClassifier\n",
    "from sklearn.svm import SVC\n",
    "from sklearn.tree import DecisionTreeClassifier\n",
    "from sklearn.ensemble import RandomForestClassifier, GradientBoostingClassifier"
   ]
  },
  {
   "cell_type": "code",
   "execution_count": null,
   "metadata": {},
   "outputs": [],
   "source": []
  },
  {
   "cell_type": "code",
   "execution_count": null,
   "metadata": {},
   "outputs": [],
   "source": []
  },
  {
   "cell_type": "code",
   "execution_count": null,
   "metadata": {},
   "outputs": [],
   "source": []
  },
  {
   "cell_type": "code",
   "execution_count": null,
   "metadata": {},
   "outputs": [],
   "source": []
  },
  {
   "cell_type": "code",
   "execution_count": null,
   "metadata": {},
   "outputs": [],
   "source": []
  },
  {
   "cell_type": "code",
   "execution_count": null,
   "metadata": {},
   "outputs": [],
   "source": []
  },
  {
   "cell_type": "code",
   "execution_count": null,
   "metadata": {},
   "outputs": [],
   "source": []
  },
  {
   "cell_type": "code",
   "execution_count": null,
   "metadata": {},
   "outputs": [],
   "source": []
  },
  {
   "cell_type": "code",
   "execution_count": null,
   "metadata": {},
   "outputs": [],
   "source": []
  },
  {
   "cell_type": "code",
   "execution_count": null,
   "metadata": {},
   "outputs": [],
   "source": []
  },
  {
   "cell_type": "code",
   "execution_count": 2,
   "metadata": {},
   "outputs": [
    {
     "data": {
      "text/plain": [
       "<bound method DataFrame.info of      Age  Sex  CPT  RPB  SCH  FBS  RES  MHR  EIA  OPK  PES  VCA  THA  T\n",
       "0     63    1    1  145  233    1    2  150    0  2.3    3    0    6  0\n",
       "1     67    1    4  160  286    0    2  108    1  1.5    2    3    3  2\n",
       "2     67    1    4  120  229    0    2  129    1  2.6    2    2    7  1\n",
       "3     37    1    3  130  250    0    0  187    0  3.5    3    0    3  0\n",
       "4     41    0    2  130  204    0    2  172    0  1.4    1    0    3  0\n",
       "..   ...  ...  ...  ...  ...  ...  ...  ...  ...  ...  ...  ...  ... ..\n",
       "298   45    1    1  110  264    0    0  132    0  1.2    2    0    7  1\n",
       "299   68    1    4  144  193    1    0  141    0  3.4    2    2    7  2\n",
       "300   57    1    4  130  131    0    0  115    1  1.2    2    1    7  3\n",
       "301   57    0    2  130  236    0    2  174    0  0.0    2    1    3  1\n",
       "302   38    1    3  138  175    0    0  173    0  0.0    1    0    3  0\n",
       "\n",
       "[303 rows x 14 columns]>"
      ]
     },
     "execution_count": 2,
     "metadata": {},
     "output_type": "execute_result"
    }
   ],
   "source": [
    "dataset = pd.read_csv(\"datafortestingpurposes.csv\")\n",
    "dataset.info"
   ]
  },
  {
   "cell_type": "code",
   "execution_count": 3,
   "metadata": {},
   "outputs": [
    {
     "name": "stdout",
     "output_type": "stream",
     "text": [
      "[1 2 3 4]\n",
      "[0 1 2 3]\n",
      "[0 1 2 3]\n"
     ]
    }
   ],
   "source": [
    "print(np.unique(dataset[['CPT']].values))\n",
    "print(np.unique(dataset[['VCA']].values))\n",
    "print(np.unique(dataset[['VCA']].values))"
   ]
  },
  {
   "cell_type": "code",
   "execution_count": 4,
   "metadata": {},
   "outputs": [],
   "source": [
    "dataset = pd.get_dummies(dataset, columns=['Sex', 'CPT', 'FBS', 'RES', 'EIA', 'PES', 'VCA','THA'])\n",
    "standardScaler = StandardScaler()\n",
    "columns_to_scale = ['Age', 'RPB','MHR', 'OPK']\n",
    "dataset[columns_to_scale] = standardScaler.fit_transform(dataset[columns_to_scale])"
   ]
  },
  {
   "cell_type": "code",
   "execution_count": 5,
   "metadata": {},
   "outputs": [
    {
     "data": {
      "text/html": [
       "<div>\n",
       "<style scoped>\n",
       "    .dataframe tbody tr th:only-of-type {\n",
       "        vertical-align: middle;\n",
       "    }\n",
       "\n",
       "    .dataframe tbody tr th {\n",
       "        vertical-align: top;\n",
       "    }\n",
       "\n",
       "    .dataframe thead th {\n",
       "        text-align: right;\n",
       "    }\n",
       "</style>\n",
       "<table border=\"1\" class=\"dataframe\">\n",
       "  <thead>\n",
       "    <tr style=\"text-align: right;\">\n",
       "      <th></th>\n",
       "      <th>Age</th>\n",
       "      <th>RPB</th>\n",
       "      <th>SCH</th>\n",
       "      <th>MHR</th>\n",
       "      <th>OPK</th>\n",
       "      <th>T</th>\n",
       "      <th>Sex_0</th>\n",
       "      <th>Sex_1</th>\n",
       "      <th>CPT_1</th>\n",
       "      <th>CPT_2</th>\n",
       "      <th>...</th>\n",
       "      <th>PES_2</th>\n",
       "      <th>PES_3</th>\n",
       "      <th>VCA_0</th>\n",
       "      <th>VCA_1</th>\n",
       "      <th>VCA_2</th>\n",
       "      <th>VCA_3</th>\n",
       "      <th>THA_0</th>\n",
       "      <th>THA_3</th>\n",
       "      <th>THA_6</th>\n",
       "      <th>THA_7</th>\n",
       "    </tr>\n",
       "  </thead>\n",
       "  <tbody>\n",
       "    <tr>\n",
       "      <th>0</th>\n",
       "      <td>0.948726</td>\n",
       "      <td>0.757525</td>\n",
       "      <td>233</td>\n",
       "      <td>0.017197</td>\n",
       "      <td>1.087338</td>\n",
       "      <td>0</td>\n",
       "      <td>0</td>\n",
       "      <td>1</td>\n",
       "      <td>1</td>\n",
       "      <td>0</td>\n",
       "      <td>...</td>\n",
       "      <td>0</td>\n",
       "      <td>1</td>\n",
       "      <td>1</td>\n",
       "      <td>0</td>\n",
       "      <td>0</td>\n",
       "      <td>0</td>\n",
       "      <td>0</td>\n",
       "      <td>0</td>\n",
       "      <td>1</td>\n",
       "      <td>0</td>\n",
       "    </tr>\n",
       "    <tr>\n",
       "      <th>1</th>\n",
       "      <td>1.392002</td>\n",
       "      <td>1.611220</td>\n",
       "      <td>286</td>\n",
       "      <td>-1.821905</td>\n",
       "      <td>0.397182</td>\n",
       "      <td>2</td>\n",
       "      <td>0</td>\n",
       "      <td>1</td>\n",
       "      <td>0</td>\n",
       "      <td>0</td>\n",
       "      <td>...</td>\n",
       "      <td>1</td>\n",
       "      <td>0</td>\n",
       "      <td>0</td>\n",
       "      <td>0</td>\n",
       "      <td>0</td>\n",
       "      <td>1</td>\n",
       "      <td>0</td>\n",
       "      <td>1</td>\n",
       "      <td>0</td>\n",
       "      <td>0</td>\n",
       "    </tr>\n",
       "    <tr>\n",
       "      <th>2</th>\n",
       "      <td>1.392002</td>\n",
       "      <td>-0.665300</td>\n",
       "      <td>229</td>\n",
       "      <td>-0.902354</td>\n",
       "      <td>1.346147</td>\n",
       "      <td>1</td>\n",
       "      <td>0</td>\n",
       "      <td>1</td>\n",
       "      <td>0</td>\n",
       "      <td>0</td>\n",
       "      <td>...</td>\n",
       "      <td>1</td>\n",
       "      <td>0</td>\n",
       "      <td>0</td>\n",
       "      <td>0</td>\n",
       "      <td>1</td>\n",
       "      <td>0</td>\n",
       "      <td>0</td>\n",
       "      <td>0</td>\n",
       "      <td>0</td>\n",
       "      <td>1</td>\n",
       "    </tr>\n",
       "    <tr>\n",
       "      <th>3</th>\n",
       "      <td>-1.932564</td>\n",
       "      <td>-0.096170</td>\n",
       "      <td>250</td>\n",
       "      <td>1.637359</td>\n",
       "      <td>2.122573</td>\n",
       "      <td>0</td>\n",
       "      <td>0</td>\n",
       "      <td>1</td>\n",
       "      <td>0</td>\n",
       "      <td>0</td>\n",
       "      <td>...</td>\n",
       "      <td>0</td>\n",
       "      <td>1</td>\n",
       "      <td>1</td>\n",
       "      <td>0</td>\n",
       "      <td>0</td>\n",
       "      <td>0</td>\n",
       "      <td>0</td>\n",
       "      <td>1</td>\n",
       "      <td>0</td>\n",
       "      <td>0</td>\n",
       "    </tr>\n",
       "    <tr>\n",
       "      <th>4</th>\n",
       "      <td>-1.489288</td>\n",
       "      <td>-0.096170</td>\n",
       "      <td>204</td>\n",
       "      <td>0.980537</td>\n",
       "      <td>0.310912</td>\n",
       "      <td>0</td>\n",
       "      <td>1</td>\n",
       "      <td>0</td>\n",
       "      <td>0</td>\n",
       "      <td>1</td>\n",
       "      <td>...</td>\n",
       "      <td>0</td>\n",
       "      <td>0</td>\n",
       "      <td>1</td>\n",
       "      <td>0</td>\n",
       "      <td>0</td>\n",
       "      <td>0</td>\n",
       "      <td>0</td>\n",
       "      <td>1</td>\n",
       "      <td>0</td>\n",
       "      <td>0</td>\n",
       "    </tr>\n",
       "  </tbody>\n",
       "</table>\n",
       "<p>5 rows × 30 columns</p>\n",
       "</div>"
      ],
      "text/plain": [
       "        Age       RPB  SCH       MHR       OPK  T  Sex_0  Sex_1  CPT_1  CPT_2  \\\n",
       "0  0.948726  0.757525  233  0.017197  1.087338  0      0      1      1      0   \n",
       "1  1.392002  1.611220  286 -1.821905  0.397182  2      0      1      0      0   \n",
       "2  1.392002 -0.665300  229 -0.902354  1.346147  1      0      1      0      0   \n",
       "3 -1.932564 -0.096170  250  1.637359  2.122573  0      0      1      0      0   \n",
       "4 -1.489288 -0.096170  204  0.980537  0.310912  0      1      0      0      1   \n",
       "\n",
       "   ...  PES_2  PES_3  VCA_0  VCA_1  VCA_2  VCA_3  THA_0  THA_3  THA_6  THA_7  \n",
       "0  ...      0      1      1      0      0      0      0      0      1      0  \n",
       "1  ...      1      0      0      0      0      1      0      1      0      0  \n",
       "2  ...      1      0      0      0      1      0      0      0      0      1  \n",
       "3  ...      0      1      1      0      0      0      0      1      0      0  \n",
       "4  ...      0      0      1      0      0      0      0      1      0      0  \n",
       "\n",
       "[5 rows x 30 columns]"
      ]
     },
     "execution_count": 5,
     "metadata": {},
     "output_type": "execute_result"
    }
   ],
   "source": [
    "dataset.head()"
   ]
  },
  {
   "cell_type": "code",
   "execution_count": 6,
   "metadata": {},
   "outputs": [],
   "source": [
    "y = dataset['T']\n",
    "X = dataset.drop(['T'], axis=1)\n",
    "X_train, X_test, y_train, y_test = train_test_split(X, y, test_size=0.2, random_state=42)"
   ]
  },
  {
   "cell_type": "code",
   "execution_count": 7,
   "metadata": {},
   "outputs": [],
   "source": [
    "from sklearn.metrics import confusion_matrix\n",
    "from sklearn.metrics import f1_score\n",
    "from sklearn.metrics import accuracy_score\n",
    "import numpy as np \n",
    "import pandas as pd\n",
    "import matplotlib.pyplot as plt\n",
    "from sklearn import preprocessing\n",
    "\n",
    "\n",
    "from sklearn.model_selection import train_test_split, RandomizedSearchCV\n",
    "from sklearn.preprocessing import StandardScaler\n",
    "from sklearn.neighbors import KNeighborsClassifier\n",
    "from sklearn.svm import SVC\n",
    "from sklearn.tree import DecisionTreeClassifier\n",
    "from sklearn.ensemble import RandomForestClassifier, GradientBoostingClassifier\n",
    "from sklearn import datasets"
   ]
  },
  {
   "cell_type": "code",
   "execution_count": 8,
   "metadata": {},
   "outputs": [
    {
     "name": "stdout",
     "output_type": "stream",
     "text": [
      "Best score of k:5\n"
     ]
    }
   ],
   "source": [
    "knn_scores = []\n",
    "for k in range(1, 40):\n",
    "    knn_classifier = KNeighborsClassifier(n_neighbors=k)\n",
    "    knn_classifier.fit(X_train, y_train)\n",
    "    knn_scores.append(knn_classifier.score(X_test, y_test))\n",
    "print(f'Best score of k:{np.argmax(knn_scores)+1}')\n"
   ]
  },
  {
   "cell_type": "code",
   "execution_count": 9,
   "metadata": {},
   "outputs": [
    {
     "name": "stdout",
     "output_type": "stream",
     "text": [
      "Accuracy:0.5245901639344263\n"
     ]
    }
   ],
   "source": [
    "k = 5\n",
    "knn_classifier = KNeighborsClassifier(n_neighbors=k)\n",
    "knn_classifier.fit(X_train, y_train)\n",
    "y_pred = knn_classifier.predict(X_test)\n",
    "print(f'Accuracy:{np.sum(y_pred == y_test)/len(y_test)}')"
   ]
  },
  {
   "cell_type": "code",
   "execution_count": 10,
   "metadata": {},
   "outputs": [
    {
     "name": "stdout",
     "output_type": "stream",
     "text": [
      "Best choice of c for linear: 2\n",
      "Best polynomial score: 3\n",
      "Best polynomial score: 3\n",
      "Best polynomial score: 3\n",
      "Best polynomial score: 9\n",
      "Best polynomial score: 9\n",
      "Best polynomial score: 9\n",
      "Best polynomial score: 8\n",
      "Best polynomial score: 8\n",
      "Best polynomial score: 8\n",
      "Best polynomial score: 8\n",
      "Best choice of c for poly: 4\n",
      "Best choice of c for rbf: 1\n",
      "Best choice of c for sigmoid: 1\n",
      "Best choice of k:linear\n"
     ]
    }
   ],
   "source": [
    "svc_scores=[]\n",
    "kernels =['linear', 'poly', 'rbf', 'sigmoid']\n",
    "for i in range(len(kernels)):\n",
    "    svc_scores_c = []\n",
    "    for ch in range(1,11):\n",
    "        if kernels[i] == 'poly':\n",
    "            svc_scores_poly = []\n",
    "            for d in range (3, 10):\n",
    "                svc_classifier = SVC(kernel = kernels[i], C=ch, degree=d)\n",
    "                svc_classifier.fit(X_train, y_train)\n",
    "                svc_scores_poly.append(svc_classifier.score(X_test, y_test))\n",
    "            print(f'Best polynomial score: {np.argmax(svc_scores_poly)+3}')\n",
    "            svc_scores_c.append(svc_scores_poly[np.argmax(svc_scores_poly)])\n",
    "        else:\n",
    "            svc_classifier = SVC(kernel = kernels[i], C=ch)\n",
    "            svc_classifier.fit(X_train, y_train)\n",
    "            svc_scores_c.append(svc_classifier.score(X_test, y_test))\n",
    "    print(f'Best choice of c for {kernels[i]}: {np.argmax(svc_scores_c)+1}')\n",
    "    svc_scores.append(svc_scores_c[np.argmax(svc_scores_c)])\n",
    "print(f'Best choice of k:{kernels[np.argmax(svc_scores)]}')"
   ]
  }
 ],
 "metadata": {
  "kernelspec": {
   "display_name": "Python 3.10.7 64-bit (microsoft store)",
   "language": "python",
   "name": "python3"
  },
  "language_info": {
   "codemirror_mode": {
    "name": "ipython",
    "version": 3
   },
   "file_extension": ".py",
   "mimetype": "text/x-python",
   "name": "python",
   "nbconvert_exporter": "python",
   "pygments_lexer": "ipython3",
   "version": "3.10.7"
  },
  "orig_nbformat": 4,
  "vscode": {
   "interpreter": {
    "hash": "7b1f2b33e866b0bf2409397e5f58ba9cdf170d3b7f64c8f359c79998e2f88ad4"
   }
  }
 },
 "nbformat": 4,
 "nbformat_minor": 2
}
